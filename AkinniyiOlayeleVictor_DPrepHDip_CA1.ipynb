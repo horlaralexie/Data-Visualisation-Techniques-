{
 "cells": [
  {
   "cell_type": "code",
   "execution_count": 1,
   "id": "dd204170",
   "metadata": {},
   "outputs": [],
   "source": [
    "# Importing the Panda DataFrame libraries\n",
    "\n",
    "import warnings\n",
    "warnings.filterwarnings('ignore')\n",
    "import os, sys\n",
    "import numpy as np\n",
    "import pandas as pd\n",
    "import matplotlib.pyplot as plt\n",
    "import matplotlib.dates as mdates\n",
    "from datetime import datetime \n",
    "import seaborn as sns\n",
    "from scipy import stats\n",
    "sns.set()"
   ]
  },
  {
   "cell_type": "code",
   "execution_count": 2,
   "id": "35f9d43a",
   "metadata": {},
   "outputs": [],
   "source": [
    "# Loading data into the DataFrame\n",
    "\n",
    "df_sales = pd.read_csv('vgsales.csv')"
   ]
  },
  {
   "cell_type": "code",
   "execution_count": 3,
   "id": "239a5fe6",
   "metadata": {
    "scrolled": true
   },
   "outputs": [
    {
     "data": {
      "text/html": [
       "<div>\n",
       "<style scoped>\n",
       "    .dataframe tbody tr th:only-of-type {\n",
       "        vertical-align: middle;\n",
       "    }\n",
       "\n",
       "    .dataframe tbody tr th {\n",
       "        vertical-align: top;\n",
       "    }\n",
       "\n",
       "    .dataframe thead th {\n",
       "        text-align: right;\n",
       "    }\n",
       "</style>\n",
       "<table border=\"1\" class=\"dataframe\">\n",
       "  <thead>\n",
       "    <tr style=\"text-align: right;\">\n",
       "      <th></th>\n",
       "      <th>Name</th>\n",
       "      <th>Platform</th>\n",
       "      <th>Year_of_Release</th>\n",
       "      <th>Genre</th>\n",
       "      <th>Publisher</th>\n",
       "      <th>NA_Sales</th>\n",
       "      <th>EU_Sales</th>\n",
       "      <th>JP_Sales</th>\n",
       "      <th>Other_Sales</th>\n",
       "      <th>Global_Sales</th>\n",
       "      <th>Critic_Score</th>\n",
       "      <th>Critic_Count</th>\n",
       "      <th>User_Score</th>\n",
       "      <th>User_Count</th>\n",
       "      <th>Developer</th>\n",
       "      <th>Rating</th>\n",
       "    </tr>\n",
       "  </thead>\n",
       "  <tbody>\n",
       "    <tr>\n",
       "      <th>0</th>\n",
       "      <td>Wii Sports</td>\n",
       "      <td>Wii</td>\n",
       "      <td>2006.0</td>\n",
       "      <td>Sports</td>\n",
       "      <td>Nintendo</td>\n",
       "      <td>41.36</td>\n",
       "      <td>28.96</td>\n",
       "      <td>3.77</td>\n",
       "      <td>8.45</td>\n",
       "      <td>82.53</td>\n",
       "      <td>76.0</td>\n",
       "      <td>51.0</td>\n",
       "      <td>8</td>\n",
       "      <td>322.0</td>\n",
       "      <td>Nintendo</td>\n",
       "      <td>E</td>\n",
       "    </tr>\n",
       "    <tr>\n",
       "      <th>1</th>\n",
       "      <td>Super Mario Bros.</td>\n",
       "      <td>NES</td>\n",
       "      <td>1985.0</td>\n",
       "      <td>Platform</td>\n",
       "      <td>Nintendo</td>\n",
       "      <td>29.08</td>\n",
       "      <td>3.58</td>\n",
       "      <td>6.81</td>\n",
       "      <td>0.77</td>\n",
       "      <td>40.24</td>\n",
       "      <td>NaN</td>\n",
       "      <td>NaN</td>\n",
       "      <td>NaN</td>\n",
       "      <td>NaN</td>\n",
       "      <td>NaN</td>\n",
       "      <td>NaN</td>\n",
       "    </tr>\n",
       "    <tr>\n",
       "      <th>2</th>\n",
       "      <td>Mario Kart Wii</td>\n",
       "      <td>Wii</td>\n",
       "      <td>2008.0</td>\n",
       "      <td>Racing</td>\n",
       "      <td>Nintendo</td>\n",
       "      <td>15.68</td>\n",
       "      <td>12.76</td>\n",
       "      <td>3.79</td>\n",
       "      <td>3.29</td>\n",
       "      <td>35.52</td>\n",
       "      <td>82.0</td>\n",
       "      <td>73.0</td>\n",
       "      <td>8.3</td>\n",
       "      <td>709.0</td>\n",
       "      <td>Nintendo</td>\n",
       "      <td>E</td>\n",
       "    </tr>\n",
       "    <tr>\n",
       "      <th>3</th>\n",
       "      <td>Wii Sports Resort</td>\n",
       "      <td>Wii</td>\n",
       "      <td>2009.0</td>\n",
       "      <td>Sports</td>\n",
       "      <td>Nintendo</td>\n",
       "      <td>15.61</td>\n",
       "      <td>10.93</td>\n",
       "      <td>3.28</td>\n",
       "      <td>2.95</td>\n",
       "      <td>32.77</td>\n",
       "      <td>80.0</td>\n",
       "      <td>73.0</td>\n",
       "      <td>8</td>\n",
       "      <td>192.0</td>\n",
       "      <td>Nintendo</td>\n",
       "      <td>E</td>\n",
       "    </tr>\n",
       "    <tr>\n",
       "      <th>4</th>\n",
       "      <td>Pokemon Red/Pokemon Blue</td>\n",
       "      <td>GB</td>\n",
       "      <td>1996.0</td>\n",
       "      <td>Role-Playing</td>\n",
       "      <td>Nintendo</td>\n",
       "      <td>11.27</td>\n",
       "      <td>8.89</td>\n",
       "      <td>10.22</td>\n",
       "      <td>1.00</td>\n",
       "      <td>31.37</td>\n",
       "      <td>NaN</td>\n",
       "      <td>NaN</td>\n",
       "      <td>NaN</td>\n",
       "      <td>NaN</td>\n",
       "      <td>NaN</td>\n",
       "      <td>NaN</td>\n",
       "    </tr>\n",
       "  </tbody>\n",
       "</table>\n",
       "</div>"
      ],
      "text/plain": [
       "                       Name Platform  Year_of_Release         Genre Publisher  \\\n",
       "0                Wii Sports      Wii           2006.0        Sports  Nintendo   \n",
       "1         Super Mario Bros.      NES           1985.0      Platform  Nintendo   \n",
       "2            Mario Kart Wii      Wii           2008.0        Racing  Nintendo   \n",
       "3         Wii Sports Resort      Wii           2009.0        Sports  Nintendo   \n",
       "4  Pokemon Red/Pokemon Blue       GB           1996.0  Role-Playing  Nintendo   \n",
       "\n",
       "   NA_Sales  EU_Sales  JP_Sales  Other_Sales  Global_Sales  Critic_Score  \\\n",
       "0     41.36     28.96      3.77         8.45         82.53          76.0   \n",
       "1     29.08      3.58      6.81         0.77         40.24           NaN   \n",
       "2     15.68     12.76      3.79         3.29         35.52          82.0   \n",
       "3     15.61     10.93      3.28         2.95         32.77          80.0   \n",
       "4     11.27      8.89     10.22         1.00         31.37           NaN   \n",
       "\n",
       "   Critic_Count User_Score  User_Count Developer Rating  \n",
       "0          51.0          8       322.0  Nintendo      E  \n",
       "1           NaN        NaN         NaN       NaN    NaN  \n",
       "2          73.0        8.3       709.0  Nintendo      E  \n",
       "3          73.0          8       192.0  Nintendo      E  \n",
       "4           NaN        NaN         NaN       NaN    NaN  "
      ]
     },
     "execution_count": 3,
     "metadata": {},
     "output_type": "execute_result"
    }
   ],
   "source": [
    "# View the first five rows to know what the dataset looks like\n",
    "\n",
    "df_sales.head()"
   ]
  },
  {
   "cell_type": "markdown",
   "id": "7d1edf97",
   "metadata": {},
   "source": [
    "## Data Preparation\n",
    "* Understanding the data variables\n",
    "* Cleaning the dataset( missing data, redundant data, outliers)"
   ]
  },
  {
   "cell_type": "code",
   "execution_count": 4,
   "id": "f6ffc00d",
   "metadata": {},
   "outputs": [
    {
     "data": {
      "text/plain": [
       "(16719, 16)"
      ]
     },
     "execution_count": 4,
     "metadata": {},
     "output_type": "execute_result"
    }
   ],
   "source": [
    "# I want to do the characterisation of the data set: size; number of attributes; has/does not have missing values,number of observations.\n",
    "\n",
    "# I want to know the number of attributes/ observations in the dataset\n",
    "\n",
    "df_sales.shape"
   ]
  },
  {
   "cell_type": "code",
   "execution_count": 5,
   "id": "1ab16649",
   "metadata": {},
   "outputs": [
    {
     "name": "stdout",
     "output_type": "stream",
     "text": [
      "<class 'pandas.core.frame.DataFrame'>\n",
      "RangeIndex: 16719 entries, 0 to 16718\n",
      "Data columns (total 16 columns):\n",
      " #   Column           Non-Null Count  Dtype  \n",
      "---  ------           --------------  -----  \n",
      " 0   Name             16717 non-null  object \n",
      " 1   Platform         16719 non-null  object \n",
      " 2   Year_of_Release  16450 non-null  float64\n",
      " 3   Genre            16717 non-null  object \n",
      " 4   Publisher        16665 non-null  object \n",
      " 5   NA_Sales         16719 non-null  float64\n",
      " 6   EU_Sales         16719 non-null  float64\n",
      " 7   JP_Sales         16719 non-null  float64\n",
      " 8   Other_Sales      16719 non-null  float64\n",
      " 9   Global_Sales     16719 non-null  float64\n",
      " 10  Critic_Score     8137 non-null   float64\n",
      " 11  Critic_Count     8137 non-null   float64\n",
      " 12  User_Score       10015 non-null  object \n",
      " 13  User_Count       7590 non-null   float64\n",
      " 14  Developer        10096 non-null  object \n",
      " 15  Rating           9950 non-null   object \n",
      "dtypes: float64(9), object(7)\n",
      "memory usage: 2.0+ MB\n"
     ]
    }
   ],
   "source": [
    "# Checking the data type of the attributes present in the dataset\n",
    "\n",
    "\n",
    "df_sales.info()"
   ]
  },
  {
   "cell_type": "code",
   "execution_count": 6,
   "id": "3e2a675e",
   "metadata": {},
   "outputs": [
    {
     "data": {
      "text/plain": [
       "Name                  2\n",
       "Platform              0\n",
       "Year_of_Release     269\n",
       "Genre                 2\n",
       "Publisher            54\n",
       "NA_Sales              0\n",
       "EU_Sales              0\n",
       "JP_Sales              0\n",
       "Other_Sales           0\n",
       "Global_Sales          0\n",
       "Critic_Score       8582\n",
       "Critic_Count       8582\n",
       "User_Score         6704\n",
       "User_Count         9129\n",
       "Developer          6623\n",
       "Rating             6769\n",
       "dtype: int64"
      ]
     },
     "execution_count": 6,
     "metadata": {},
     "output_type": "execute_result"
    }
   ],
   "source": [
    "# Check for missing values \n",
    "\n",
    "df_sales.isnull().sum()"
   ]
  },
  {
   "cell_type": "code",
   "execution_count": 7,
   "id": "9ef1aeea",
   "metadata": {},
   "outputs": [
    {
     "data": {
      "text/plain": [
       "0"
      ]
     },
     "execution_count": 7,
     "metadata": {},
     "output_type": "execute_result"
    }
   ],
   "source": [
    "# Checking for duplicates\n",
    "\n",
    "df_sales.duplicated().sum()"
   ]
  },
  {
   "cell_type": "markdown",
   "id": "f964b6fc",
   "metadata": {},
   "source": [
    "### Observations\n",
    "* There are 16719 observations and 16 attributes.\n",
    "* There are missing values\n",
    "* The amount of missing values vary all through each columns of the dataset\n",
    "* There are not duplicates in the dataset"
   ]
  },
  {
   "cell_type": "markdown",
   "id": "6cd91414",
   "metadata": {},
   "source": [
    "#### Since there is not constant amount of missing values all through the columns, we will pick the column with  the missing value percentage and lowest percentage to scale. This will give us the best way to treat the missing values. Maybe to delete or fill in.\n"
   ]
  },
  {
   "cell_type": "code",
   "execution_count": 8,
   "id": "3d3422f5",
   "metadata": {},
   "outputs": [
    {
     "data": {
      "text/plain": [
       "51.330821221364914"
      ]
     },
     "execution_count": 8,
     "metadata": {},
     "output_type": "execute_result"
    }
   ],
   "source": [
    "# scaling percentage of missing value in Critic_Score column\n",
    "\n",
    "#calculting isnull() % for 'Critic_Score'\n",
    "df_sales[df_sales['Critic_Score'].isnull()].shape[0]* 100 / len(df_sales)"
   ]
  },
  {
   "cell_type": "code",
   "execution_count": 9,
   "id": "951d1dcd",
   "metadata": {},
   "outputs": [
    {
     "data": {
      "text/plain": [
       "0.32298582451103536"
      ]
     },
     "execution_count": 9,
     "metadata": {},
     "output_type": "execute_result"
    }
   ],
   "source": [
    "# scaling percentage of missing value in Publisher column\n",
    "\n",
    "#calculting isnull() % for 'Publisher'\n",
    "df_sales[df_sales['Publisher'].isnull()].shape[0]* 100 / len(df_sales)"
   ]
  },
  {
   "cell_type": "markdown",
   "id": "2370f22e",
   "metadata": {},
   "source": [
    "### The percentage of missing values is varies all through the dataset.\n",
    "* The ways to fill it in with KNN imputer for numerical values, fill in with mode for categorical values to avoid bias as the some columns with missing values are above 20 percent. \n",
    "* I will also look into my descriptive analysis to see how the outcome will affect the statistical results."
   ]
  },
  {
   "cell_type": "code",
   "execution_count": 10,
   "id": "0fd2429e",
   "metadata": {},
   "outputs": [
    {
     "data": {
      "text/html": [
       "<div>\n",
       "<style scoped>\n",
       "    .dataframe tbody tr th:only-of-type {\n",
       "        vertical-align: middle;\n",
       "    }\n",
       "\n",
       "    .dataframe tbody tr th {\n",
       "        vertical-align: top;\n",
       "    }\n",
       "\n",
       "    .dataframe thead th {\n",
       "        text-align: right;\n",
       "    }\n",
       "</style>\n",
       "<table border=\"1\" class=\"dataframe\">\n",
       "  <thead>\n",
       "    <tr style=\"text-align: right;\">\n",
       "      <th></th>\n",
       "      <th>Year_of_Release</th>\n",
       "      <th>NA_Sales</th>\n",
       "      <th>EU_Sales</th>\n",
       "      <th>JP_Sales</th>\n",
       "      <th>Other_Sales</th>\n",
       "      <th>Global_Sales</th>\n",
       "      <th>Critic_Score</th>\n",
       "      <th>Critic_Count</th>\n",
       "      <th>User_Count</th>\n",
       "    </tr>\n",
       "  </thead>\n",
       "  <tbody>\n",
       "    <tr>\n",
       "      <th>count</th>\n",
       "      <td>16450.000000</td>\n",
       "      <td>16719.000000</td>\n",
       "      <td>16719.000000</td>\n",
       "      <td>16719.000000</td>\n",
       "      <td>16719.000000</td>\n",
       "      <td>16719.000000</td>\n",
       "      <td>8137.000000</td>\n",
       "      <td>8137.000000</td>\n",
       "      <td>7590.000000</td>\n",
       "    </tr>\n",
       "    <tr>\n",
       "      <th>mean</th>\n",
       "      <td>2006.487356</td>\n",
       "      <td>0.263330</td>\n",
       "      <td>0.145025</td>\n",
       "      <td>0.077602</td>\n",
       "      <td>0.047332</td>\n",
       "      <td>0.533543</td>\n",
       "      <td>68.967679</td>\n",
       "      <td>26.360821</td>\n",
       "      <td>162.229908</td>\n",
       "    </tr>\n",
       "    <tr>\n",
       "      <th>std</th>\n",
       "      <td>5.878995</td>\n",
       "      <td>0.813514</td>\n",
       "      <td>0.503283</td>\n",
       "      <td>0.308818</td>\n",
       "      <td>0.186710</td>\n",
       "      <td>1.547935</td>\n",
       "      <td>13.938165</td>\n",
       "      <td>18.980495</td>\n",
       "      <td>561.282326</td>\n",
       "    </tr>\n",
       "    <tr>\n",
       "      <th>min</th>\n",
       "      <td>1980.000000</td>\n",
       "      <td>0.000000</td>\n",
       "      <td>0.000000</td>\n",
       "      <td>0.000000</td>\n",
       "      <td>0.000000</td>\n",
       "      <td>0.010000</td>\n",
       "      <td>13.000000</td>\n",
       "      <td>3.000000</td>\n",
       "      <td>4.000000</td>\n",
       "    </tr>\n",
       "    <tr>\n",
       "      <th>25%</th>\n",
       "      <td>2003.000000</td>\n",
       "      <td>0.000000</td>\n",
       "      <td>0.000000</td>\n",
       "      <td>0.000000</td>\n",
       "      <td>0.000000</td>\n",
       "      <td>0.060000</td>\n",
       "      <td>60.000000</td>\n",
       "      <td>12.000000</td>\n",
       "      <td>10.000000</td>\n",
       "    </tr>\n",
       "    <tr>\n",
       "      <th>50%</th>\n",
       "      <td>2007.000000</td>\n",
       "      <td>0.080000</td>\n",
       "      <td>0.020000</td>\n",
       "      <td>0.000000</td>\n",
       "      <td>0.010000</td>\n",
       "      <td>0.170000</td>\n",
       "      <td>71.000000</td>\n",
       "      <td>21.000000</td>\n",
       "      <td>24.000000</td>\n",
       "    </tr>\n",
       "    <tr>\n",
       "      <th>75%</th>\n",
       "      <td>2010.000000</td>\n",
       "      <td>0.240000</td>\n",
       "      <td>0.110000</td>\n",
       "      <td>0.040000</td>\n",
       "      <td>0.030000</td>\n",
       "      <td>0.470000</td>\n",
       "      <td>79.000000</td>\n",
       "      <td>36.000000</td>\n",
       "      <td>81.000000</td>\n",
       "    </tr>\n",
       "    <tr>\n",
       "      <th>max</th>\n",
       "      <td>2020.000000</td>\n",
       "      <td>41.360000</td>\n",
       "      <td>28.960000</td>\n",
       "      <td>10.220000</td>\n",
       "      <td>10.570000</td>\n",
       "      <td>82.530000</td>\n",
       "      <td>98.000000</td>\n",
       "      <td>113.000000</td>\n",
       "      <td>10665.000000</td>\n",
       "    </tr>\n",
       "  </tbody>\n",
       "</table>\n",
       "</div>"
      ],
      "text/plain": [
       "       Year_of_Release      NA_Sales      EU_Sales      JP_Sales  \\\n",
       "count     16450.000000  16719.000000  16719.000000  16719.000000   \n",
       "mean       2006.487356      0.263330      0.145025      0.077602   \n",
       "std           5.878995      0.813514      0.503283      0.308818   \n",
       "min        1980.000000      0.000000      0.000000      0.000000   \n",
       "25%        2003.000000      0.000000      0.000000      0.000000   \n",
       "50%        2007.000000      0.080000      0.020000      0.000000   \n",
       "75%        2010.000000      0.240000      0.110000      0.040000   \n",
       "max        2020.000000     41.360000     28.960000     10.220000   \n",
       "\n",
       "        Other_Sales  Global_Sales  Critic_Score  Critic_Count    User_Count  \n",
       "count  16719.000000  16719.000000   8137.000000   8137.000000   7590.000000  \n",
       "mean       0.047332      0.533543     68.967679     26.360821    162.229908  \n",
       "std        0.186710      1.547935     13.938165     18.980495    561.282326  \n",
       "min        0.000000      0.010000     13.000000      3.000000      4.000000  \n",
       "25%        0.000000      0.060000     60.000000     12.000000     10.000000  \n",
       "50%        0.010000      0.170000     71.000000     21.000000     24.000000  \n",
       "75%        0.030000      0.470000     79.000000     36.000000     81.000000  \n",
       "max       10.570000     82.530000     98.000000    113.000000  10665.000000  "
      ]
     },
     "execution_count": 10,
     "metadata": {},
     "output_type": "execute_result"
    }
   ],
   "source": [
    "### Descriptive statistics:\n",
    "df_sales.describe()"
   ]
  },
  {
   "cell_type": "markdown",
   "id": "332c4c81",
   "metadata": {},
   "source": [
    "# Before we start the general KNN Imputer, we will treat some columns separately due to the data dictionary.\n",
    "* Looking at the Data Dictionary, 'User_Score' column will be treated differently so as to avoid Mode treating it as Object."
   ]
  },
  {
   "cell_type": "code",
   "execution_count": 11,
   "id": "7ea7f9ec",
   "metadata": {},
   "outputs": [
    {
     "data": {
      "text/plain": [
       "array(['8', nan, '8.3', '8.5', '6.6', '8.4', '8.6', '7.7', '6.3', '7.4',\n",
       "       '8.2', '9', '7.9', '8.1', '8.7', '7.1', '3.4', '5.3', '4.8', '3.2',\n",
       "       '8.9', '6.4', '7.8', '7.5', '2.6', '7.2', '9.2', '7', '7.3', '4.3',\n",
       "       '7.6', '5.7', '5', '9.1', '6.5', 'tbd', '8.8', '6.9', '9.4', '6.8',\n",
       "       '6.1', '6.7', '5.4', '4', '4.9', '4.5', '9.3', '6.2', '4.2', '6',\n",
       "       '3.7', '4.1', '5.8', '5.6', '5.5', '4.4', '4.6', '5.9', '3.9',\n",
       "       '3.1', '2.9', '5.2', '3.3', '4.7', '5.1', '3.5', '2.5', '1.9', '3',\n",
       "       '2.7', '2.2', '2', '9.5', '2.1', '3.6', '2.8', '1.8', '3.8', '0',\n",
       "       '1.6', '9.6', '2.4', '1.7', '1.1', '0.3', '1.5', '0.7', '1.2',\n",
       "       '2.3', '0.5', '1.3', '0.2', '0.6', '1.4', '0.9', '1', '9.7'],\n",
       "      dtype=object)"
      ]
     },
     "execution_count": 11,
     "metadata": {},
     "output_type": "execute_result"
    }
   ],
   "source": [
    "df_sales['User_Score'].unique()"
   ]
  },
  {
   "cell_type": "markdown",
   "id": "7de18b40",
   "metadata": {},
   "source": [
    "#### From the above we observe that there is a text in the column and this is the reason why the column showing as Object data type. We will to treat that first before treating the missing values.\n",
    "* We have to convert 'tbd' to missing values, so Panda recognizes it as missing value."
   ]
  },
  {
   "cell_type": "code",
   "execution_count": 12,
   "id": "dde44d56",
   "metadata": {},
   "outputs": [],
   "source": [
    "df_sales = pd.read_csv('vgsales.csv', na_values='tbd')"
   ]
  },
  {
   "cell_type": "code",
   "execution_count": 13,
   "id": "5cd4b412",
   "metadata": {},
   "outputs": [
    {
     "name": "stdout",
     "output_type": "stream",
     "text": [
      "<class 'pandas.core.frame.DataFrame'>\n",
      "RangeIndex: 16719 entries, 0 to 16718\n",
      "Data columns (total 16 columns):\n",
      " #   Column           Non-Null Count  Dtype  \n",
      "---  ------           --------------  -----  \n",
      " 0   Name             16717 non-null  object \n",
      " 1   Platform         16719 non-null  object \n",
      " 2   Year_of_Release  16450 non-null  float64\n",
      " 3   Genre            16717 non-null  object \n",
      " 4   Publisher        16665 non-null  object \n",
      " 5   NA_Sales         16719 non-null  float64\n",
      " 6   EU_Sales         16719 non-null  float64\n",
      " 7   JP_Sales         16719 non-null  float64\n",
      " 8   Other_Sales      16719 non-null  float64\n",
      " 9   Global_Sales     16719 non-null  float64\n",
      " 10  Critic_Score     8137 non-null   float64\n",
      " 11  Critic_Count     8137 non-null   float64\n",
      " 12  User_Score       7590 non-null   float64\n",
      " 13  User_Count       7590 non-null   float64\n",
      " 14  Developer        10096 non-null  object \n",
      " 15  Rating           9950 non-null   object \n",
      "dtypes: float64(10), object(6)\n",
      "memory usage: 2.0+ MB\n"
     ]
    }
   ],
   "source": [
    "df_sales.info()"
   ]
  },
  {
   "cell_type": "markdown",
   "id": "669b210e",
   "metadata": {},
   "source": [
    "#### Now we can go ahead to treat our missing values."
   ]
  },
  {
   "cell_type": "code",
   "execution_count": 14,
   "id": "82557cfc",
   "metadata": {},
   "outputs": [
    {
     "data": {
      "text/html": [
       "<div>\n",
       "<style scoped>\n",
       "    .dataframe tbody tr th:only-of-type {\n",
       "        vertical-align: middle;\n",
       "    }\n",
       "\n",
       "    .dataframe tbody tr th {\n",
       "        vertical-align: top;\n",
       "    }\n",
       "\n",
       "    .dataframe thead th {\n",
       "        text-align: right;\n",
       "    }\n",
       "</style>\n",
       "<table border=\"1\" class=\"dataframe\">\n",
       "  <thead>\n",
       "    <tr style=\"text-align: right;\">\n",
       "      <th></th>\n",
       "      <th>Name</th>\n",
       "      <th>Platform</th>\n",
       "      <th>Year_of_Release</th>\n",
       "      <th>Genre</th>\n",
       "      <th>Publisher</th>\n",
       "      <th>NA_Sales</th>\n",
       "      <th>EU_Sales</th>\n",
       "      <th>JP_Sales</th>\n",
       "      <th>Other_Sales</th>\n",
       "      <th>Global_Sales</th>\n",
       "      <th>Critic_Score</th>\n",
       "      <th>Critic_Count</th>\n",
       "      <th>User_Score</th>\n",
       "      <th>User_Count</th>\n",
       "      <th>Developer</th>\n",
       "      <th>Rating</th>\n",
       "    </tr>\n",
       "  </thead>\n",
       "  <tbody>\n",
       "    <tr>\n",
       "      <th>0</th>\n",
       "      <td>Wii Sports</td>\n",
       "      <td>Wii</td>\n",
       "      <td>2006.0</td>\n",
       "      <td>Sports</td>\n",
       "      <td>Nintendo</td>\n",
       "      <td>41.36</td>\n",
       "      <td>28.96</td>\n",
       "      <td>3.77</td>\n",
       "      <td>8.45</td>\n",
       "      <td>82.53</td>\n",
       "      <td>76.0</td>\n",
       "      <td>51.0</td>\n",
       "      <td>8.00</td>\n",
       "      <td>322.0</td>\n",
       "      <td>Nintendo</td>\n",
       "      <td>E</td>\n",
       "    </tr>\n",
       "    <tr>\n",
       "      <th>1</th>\n",
       "      <td>Super Mario Bros.</td>\n",
       "      <td>NES</td>\n",
       "      <td>1985.0</td>\n",
       "      <td>Platform</td>\n",
       "      <td>Nintendo</td>\n",
       "      <td>29.08</td>\n",
       "      <td>3.58</td>\n",
       "      <td>6.81</td>\n",
       "      <td>0.77</td>\n",
       "      <td>40.24</td>\n",
       "      <td>79.2</td>\n",
       "      <td>66.4</td>\n",
       "      <td>7.96</td>\n",
       "      <td>411.0</td>\n",
       "      <td>NaN</td>\n",
       "      <td>NaN</td>\n",
       "    </tr>\n",
       "    <tr>\n",
       "      <th>2</th>\n",
       "      <td>Mario Kart Wii</td>\n",
       "      <td>Wii</td>\n",
       "      <td>2008.0</td>\n",
       "      <td>Racing</td>\n",
       "      <td>Nintendo</td>\n",
       "      <td>15.68</td>\n",
       "      <td>12.76</td>\n",
       "      <td>3.79</td>\n",
       "      <td>3.29</td>\n",
       "      <td>35.52</td>\n",
       "      <td>82.0</td>\n",
       "      <td>73.0</td>\n",
       "      <td>8.30</td>\n",
       "      <td>709.0</td>\n",
       "      <td>Nintendo</td>\n",
       "      <td>E</td>\n",
       "    </tr>\n",
       "    <tr>\n",
       "      <th>3</th>\n",
       "      <td>Wii Sports Resort</td>\n",
       "      <td>Wii</td>\n",
       "      <td>2009.0</td>\n",
       "      <td>Sports</td>\n",
       "      <td>Nintendo</td>\n",
       "      <td>15.61</td>\n",
       "      <td>10.93</td>\n",
       "      <td>3.28</td>\n",
       "      <td>2.95</td>\n",
       "      <td>32.77</td>\n",
       "      <td>80.0</td>\n",
       "      <td>73.0</td>\n",
       "      <td>8.00</td>\n",
       "      <td>192.0</td>\n",
       "      <td>Nintendo</td>\n",
       "      <td>E</td>\n",
       "    </tr>\n",
       "    <tr>\n",
       "      <th>4</th>\n",
       "      <td>Pokemon Red/Pokemon Blue</td>\n",
       "      <td>GB</td>\n",
       "      <td>1996.0</td>\n",
       "      <td>Role-Playing</td>\n",
       "      <td>Nintendo</td>\n",
       "      <td>11.27</td>\n",
       "      <td>8.89</td>\n",
       "      <td>10.22</td>\n",
       "      <td>1.00</td>\n",
       "      <td>31.37</td>\n",
       "      <td>81.4</td>\n",
       "      <td>64.6</td>\n",
       "      <td>8.08</td>\n",
       "      <td>465.4</td>\n",
       "      <td>NaN</td>\n",
       "      <td>NaN</td>\n",
       "    </tr>\n",
       "  </tbody>\n",
       "</table>\n",
       "</div>"
      ],
      "text/plain": [
       "                       Name Platform  Year_of_Release         Genre Publisher  \\\n",
       "0                Wii Sports      Wii           2006.0        Sports  Nintendo   \n",
       "1         Super Mario Bros.      NES           1985.0      Platform  Nintendo   \n",
       "2            Mario Kart Wii      Wii           2008.0        Racing  Nintendo   \n",
       "3         Wii Sports Resort      Wii           2009.0        Sports  Nintendo   \n",
       "4  Pokemon Red/Pokemon Blue       GB           1996.0  Role-Playing  Nintendo   \n",
       "\n",
       "   NA_Sales  EU_Sales  JP_Sales  Other_Sales  Global_Sales  Critic_Score  \\\n",
       "0     41.36     28.96      3.77         8.45         82.53          76.0   \n",
       "1     29.08      3.58      6.81         0.77         40.24          79.2   \n",
       "2     15.68     12.76      3.79         3.29         35.52          82.0   \n",
       "3     15.61     10.93      3.28         2.95         32.77          80.0   \n",
       "4     11.27      8.89     10.22         1.00         31.37          81.4   \n",
       "\n",
       "   Critic_Count  User_Score  User_Count Developer Rating  \n",
       "0          51.0        8.00       322.0  Nintendo      E  \n",
       "1          66.4        7.96       411.0       NaN    NaN  \n",
       "2          73.0        8.30       709.0  Nintendo      E  \n",
       "3          73.0        8.00       192.0  Nintendo      E  \n",
       "4          64.6        8.08       465.4       NaN    NaN  "
      ]
     },
     "execution_count": 14,
     "metadata": {},
     "output_type": "execute_result"
    }
   ],
   "source": [
    "# Filling missing values with KNN Imputer\n",
    "\n",
    "from sklearn.impute import KNNImputer\n",
    "\n",
    "# Identify numerical columns\n",
    "numeric_columns = df_sales.select_dtypes(include=['float64']).columns\n",
    "\n",
    "# Extract only the numerical columns for KNN imputation\n",
    "df_numeric = df_sales[numeric_columns]\n",
    "\n",
    "# Apply KNN imputation for missing values on numerical columns\n",
    "imputer = KNNImputer(n_neighbors=5)\n",
    "df_numeric_imputed = pd.DataFrame(imputer.fit_transform(df_numeric), columns=df_numeric.columns)\n",
    "\n",
    "# Replace the missing values in the original DataFrame with imputed values\n",
    "df_sales[numeric_columns] = df_numeric_imputed\n",
    "\n",
    "# Display the DataFrame after KNN imputation\n",
    "df_sales.head()\n"
   ]
  },
  {
   "cell_type": "code",
   "execution_count": 15,
   "id": "c61fb8af",
   "metadata": {},
   "outputs": [
    {
     "data": {
      "text/plain": [
       "Name               0\n",
       "Platform           0\n",
       "Year_of_Release    0\n",
       "Genre              0\n",
       "Publisher          0\n",
       "NA_Sales           0\n",
       "EU_Sales           0\n",
       "JP_Sales           0\n",
       "Other_Sales        0\n",
       "Global_Sales       0\n",
       "Critic_Score       0\n",
       "Critic_Count       0\n",
       "User_Score         0\n",
       "User_Count         0\n",
       "Developer          0\n",
       "Rating             0\n",
       "dtype: int64"
      ]
     },
     "execution_count": 15,
     "metadata": {},
     "output_type": "execute_result"
    }
   ],
   "source": [
    "### Now will treat categorical missing values with mode\n",
    "\n",
    "# Identify categorical columns\n",
    "categorical_columns = df_sales.select_dtypes(include=['object']).columns\n",
    "\n",
    "# Fill missing values with the mode for categorical columns\n",
    "df_sales[categorical_columns] = df_sales[categorical_columns].fillna(df_sales[categorical_columns].mode().iloc[0])\n",
    "\n",
    "# Check for missing values \n",
    "\n",
    "df_sales.isnull().sum()"
   ]
  },
  {
   "cell_type": "code",
   "execution_count": 16,
   "id": "86052466",
   "metadata": {},
   "outputs": [
    {
     "name": "stdout",
     "output_type": "stream",
     "text": [
      "<class 'pandas.core.frame.DataFrame'>\n",
      "RangeIndex: 16719 entries, 0 to 16718\n",
      "Data columns (total 16 columns):\n",
      " #   Column           Non-Null Count  Dtype  \n",
      "---  ------           --------------  -----  \n",
      " 0   Name             16719 non-null  object \n",
      " 1   Platform         16719 non-null  object \n",
      " 2   Year_of_Release  16719 non-null  float64\n",
      " 3   Genre            16719 non-null  object \n",
      " 4   Publisher        16719 non-null  object \n",
      " 5   NA_Sales         16719 non-null  float64\n",
      " 6   EU_Sales         16719 non-null  float64\n",
      " 7   JP_Sales         16719 non-null  float64\n",
      " 8   Other_Sales      16719 non-null  float64\n",
      " 9   Global_Sales     16719 non-null  float64\n",
      " 10  Critic_Score     16719 non-null  float64\n",
      " 11  Critic_Count     16719 non-null  float64\n",
      " 12  User_Score       16719 non-null  float64\n",
      " 13  User_Count       16719 non-null  float64\n",
      " 14  Developer        16719 non-null  object \n",
      " 15  Rating           16719 non-null  object \n",
      "dtypes: float64(10), object(6)\n",
      "memory usage: 2.0+ MB\n"
     ]
    }
   ],
   "source": [
    "# Checking the data type of the attributes present in the dataset\n",
    "\n",
    "\n",
    "df_sales.info()"
   ]
  },
  {
   "cell_type": "code",
   "execution_count": 17,
   "id": "6dfa7828",
   "metadata": {},
   "outputs": [
    {
     "data": {
      "text/html": [
       "<div>\n",
       "<style scoped>\n",
       "    .dataframe tbody tr th:only-of-type {\n",
       "        vertical-align: middle;\n",
       "    }\n",
       "\n",
       "    .dataframe tbody tr th {\n",
       "        vertical-align: top;\n",
       "    }\n",
       "\n",
       "    .dataframe thead th {\n",
       "        text-align: right;\n",
       "    }\n",
       "</style>\n",
       "<table border=\"1\" class=\"dataframe\">\n",
       "  <thead>\n",
       "    <tr style=\"text-align: right;\">\n",
       "      <th></th>\n",
       "      <th>Name</th>\n",
       "      <th>Platform</th>\n",
       "      <th>Year_of_Release</th>\n",
       "      <th>Genre</th>\n",
       "      <th>Publisher</th>\n",
       "      <th>NA_Sales</th>\n",
       "      <th>EU_Sales</th>\n",
       "      <th>JP_Sales</th>\n",
       "      <th>Other_Sales</th>\n",
       "      <th>Global_Sales</th>\n",
       "      <th>Critic_Score</th>\n",
       "      <th>Critic_Count</th>\n",
       "      <th>User_Score</th>\n",
       "      <th>User_Count</th>\n",
       "      <th>Developer</th>\n",
       "      <th>Rating</th>\n",
       "    </tr>\n",
       "  </thead>\n",
       "  <tbody>\n",
       "    <tr>\n",
       "      <th>0</th>\n",
       "      <td>Wii Sports</td>\n",
       "      <td>Wii</td>\n",
       "      <td>2006.0</td>\n",
       "      <td>Sports</td>\n",
       "      <td>Nintendo</td>\n",
       "      <td>41.36</td>\n",
       "      <td>28.96</td>\n",
       "      <td>3.77</td>\n",
       "      <td>8.45</td>\n",
       "      <td>82.53</td>\n",
       "      <td>76.0</td>\n",
       "      <td>51.0</td>\n",
       "      <td>8.00</td>\n",
       "      <td>322.0</td>\n",
       "      <td>Nintendo</td>\n",
       "      <td>E</td>\n",
       "    </tr>\n",
       "    <tr>\n",
       "      <th>1</th>\n",
       "      <td>Super Mario Bros.</td>\n",
       "      <td>NES</td>\n",
       "      <td>1985.0</td>\n",
       "      <td>Platform</td>\n",
       "      <td>Nintendo</td>\n",
       "      <td>29.08</td>\n",
       "      <td>3.58</td>\n",
       "      <td>6.81</td>\n",
       "      <td>0.77</td>\n",
       "      <td>40.24</td>\n",
       "      <td>79.2</td>\n",
       "      <td>66.4</td>\n",
       "      <td>7.96</td>\n",
       "      <td>411.0</td>\n",
       "      <td>Ubisoft</td>\n",
       "      <td>E</td>\n",
       "    </tr>\n",
       "    <tr>\n",
       "      <th>2</th>\n",
       "      <td>Mario Kart Wii</td>\n",
       "      <td>Wii</td>\n",
       "      <td>2008.0</td>\n",
       "      <td>Racing</td>\n",
       "      <td>Nintendo</td>\n",
       "      <td>15.68</td>\n",
       "      <td>12.76</td>\n",
       "      <td>3.79</td>\n",
       "      <td>3.29</td>\n",
       "      <td>35.52</td>\n",
       "      <td>82.0</td>\n",
       "      <td>73.0</td>\n",
       "      <td>8.30</td>\n",
       "      <td>709.0</td>\n",
       "      <td>Nintendo</td>\n",
       "      <td>E</td>\n",
       "    </tr>\n",
       "    <tr>\n",
       "      <th>3</th>\n",
       "      <td>Wii Sports Resort</td>\n",
       "      <td>Wii</td>\n",
       "      <td>2009.0</td>\n",
       "      <td>Sports</td>\n",
       "      <td>Nintendo</td>\n",
       "      <td>15.61</td>\n",
       "      <td>10.93</td>\n",
       "      <td>3.28</td>\n",
       "      <td>2.95</td>\n",
       "      <td>32.77</td>\n",
       "      <td>80.0</td>\n",
       "      <td>73.0</td>\n",
       "      <td>8.00</td>\n",
       "      <td>192.0</td>\n",
       "      <td>Nintendo</td>\n",
       "      <td>E</td>\n",
       "    </tr>\n",
       "    <tr>\n",
       "      <th>4</th>\n",
       "      <td>Pokemon Red/Pokemon Blue</td>\n",
       "      <td>GB</td>\n",
       "      <td>1996.0</td>\n",
       "      <td>Role-Playing</td>\n",
       "      <td>Nintendo</td>\n",
       "      <td>11.27</td>\n",
       "      <td>8.89</td>\n",
       "      <td>10.22</td>\n",
       "      <td>1.00</td>\n",
       "      <td>31.37</td>\n",
       "      <td>81.4</td>\n",
       "      <td>64.6</td>\n",
       "      <td>8.08</td>\n",
       "      <td>465.4</td>\n",
       "      <td>Ubisoft</td>\n",
       "      <td>E</td>\n",
       "    </tr>\n",
       "  </tbody>\n",
       "</table>\n",
       "</div>"
      ],
      "text/plain": [
       "                       Name Platform  Year_of_Release         Genre Publisher  \\\n",
       "0                Wii Sports      Wii           2006.0        Sports  Nintendo   \n",
       "1         Super Mario Bros.      NES           1985.0      Platform  Nintendo   \n",
       "2            Mario Kart Wii      Wii           2008.0        Racing  Nintendo   \n",
       "3         Wii Sports Resort      Wii           2009.0        Sports  Nintendo   \n",
       "4  Pokemon Red/Pokemon Blue       GB           1996.0  Role-Playing  Nintendo   \n",
       "\n",
       "   NA_Sales  EU_Sales  JP_Sales  Other_Sales  Global_Sales  Critic_Score  \\\n",
       "0     41.36     28.96      3.77         8.45         82.53          76.0   \n",
       "1     29.08      3.58      6.81         0.77         40.24          79.2   \n",
       "2     15.68     12.76      3.79         3.29         35.52          82.0   \n",
       "3     15.61     10.93      3.28         2.95         32.77          80.0   \n",
       "4     11.27      8.89     10.22         1.00         31.37          81.4   \n",
       "\n",
       "   Critic_Count  User_Score  User_Count Developer Rating  \n",
       "0          51.0        8.00       322.0  Nintendo      E  \n",
       "1          66.4        7.96       411.0   Ubisoft      E  \n",
       "2          73.0        8.30       709.0  Nintendo      E  \n",
       "3          73.0        8.00       192.0  Nintendo      E  \n",
       "4          64.6        8.08       465.4   Ubisoft      E  "
      ]
     },
     "execution_count": 17,
     "metadata": {},
     "output_type": "execute_result"
    }
   ],
   "source": [
    "df_sales.head()"
   ]
  },
  {
   "cell_type": "markdown",
   "id": "5a700668",
   "metadata": {},
   "source": [
    "#### Now will treat the inconsistency in the data types, so we can have the perfect data types according to the data dictionary\n",
    "* If we change the data type directly to int64 it will affect the values, so will round some of the floats to the nearest decimal and integer and convert it to int64 after the round up.\n",
    "* This will make it easy for us to work more better with the dataset and to see more clearly each variables observation."
   ]
  },
  {
   "cell_type": "code",
   "execution_count": 18,
   "id": "8b4a9e6d",
   "metadata": {},
   "outputs": [
    {
     "data": {
      "text/html": [
       "<div>\n",
       "<style scoped>\n",
       "    .dataframe tbody tr th:only-of-type {\n",
       "        vertical-align: middle;\n",
       "    }\n",
       "\n",
       "    .dataframe tbody tr th {\n",
       "        vertical-align: top;\n",
       "    }\n",
       "\n",
       "    .dataframe thead th {\n",
       "        text-align: right;\n",
       "    }\n",
       "</style>\n",
       "<table border=\"1\" class=\"dataframe\">\n",
       "  <thead>\n",
       "    <tr style=\"text-align: right;\">\n",
       "      <th></th>\n",
       "      <th>Name</th>\n",
       "      <th>Platform</th>\n",
       "      <th>Year_of_Release</th>\n",
       "      <th>Genre</th>\n",
       "      <th>Publisher</th>\n",
       "      <th>NA_Sales</th>\n",
       "      <th>EU_Sales</th>\n",
       "      <th>JP_Sales</th>\n",
       "      <th>Other_Sales</th>\n",
       "      <th>Global_Sales</th>\n",
       "      <th>Critic_Score</th>\n",
       "      <th>Critic_Count</th>\n",
       "      <th>User_Score</th>\n",
       "      <th>User_Count</th>\n",
       "      <th>Developer</th>\n",
       "      <th>Rating</th>\n",
       "    </tr>\n",
       "  </thead>\n",
       "  <tbody>\n",
       "    <tr>\n",
       "      <th>0</th>\n",
       "      <td>Wii Sports</td>\n",
       "      <td>Wii</td>\n",
       "      <td>2006</td>\n",
       "      <td>Sports</td>\n",
       "      <td>Nintendo</td>\n",
       "      <td>41.36</td>\n",
       "      <td>28.96</td>\n",
       "      <td>3.77</td>\n",
       "      <td>8.45</td>\n",
       "      <td>82.53</td>\n",
       "      <td>76</td>\n",
       "      <td>51</td>\n",
       "      <td>8.00</td>\n",
       "      <td>322</td>\n",
       "      <td>Nintendo</td>\n",
       "      <td>E</td>\n",
       "    </tr>\n",
       "    <tr>\n",
       "      <th>1</th>\n",
       "      <td>Super Mario Bros.</td>\n",
       "      <td>NES</td>\n",
       "      <td>1985</td>\n",
       "      <td>Platform</td>\n",
       "      <td>Nintendo</td>\n",
       "      <td>29.08</td>\n",
       "      <td>3.58</td>\n",
       "      <td>6.81</td>\n",
       "      <td>0.77</td>\n",
       "      <td>40.24</td>\n",
       "      <td>79</td>\n",
       "      <td>66</td>\n",
       "      <td>7.96</td>\n",
       "      <td>411</td>\n",
       "      <td>Ubisoft</td>\n",
       "      <td>E</td>\n",
       "    </tr>\n",
       "    <tr>\n",
       "      <th>2</th>\n",
       "      <td>Mario Kart Wii</td>\n",
       "      <td>Wii</td>\n",
       "      <td>2008</td>\n",
       "      <td>Racing</td>\n",
       "      <td>Nintendo</td>\n",
       "      <td>15.68</td>\n",
       "      <td>12.76</td>\n",
       "      <td>3.79</td>\n",
       "      <td>3.29</td>\n",
       "      <td>35.52</td>\n",
       "      <td>82</td>\n",
       "      <td>73</td>\n",
       "      <td>8.30</td>\n",
       "      <td>709</td>\n",
       "      <td>Nintendo</td>\n",
       "      <td>E</td>\n",
       "    </tr>\n",
       "    <tr>\n",
       "      <th>3</th>\n",
       "      <td>Wii Sports Resort</td>\n",
       "      <td>Wii</td>\n",
       "      <td>2009</td>\n",
       "      <td>Sports</td>\n",
       "      <td>Nintendo</td>\n",
       "      <td>15.61</td>\n",
       "      <td>10.93</td>\n",
       "      <td>3.28</td>\n",
       "      <td>2.95</td>\n",
       "      <td>32.77</td>\n",
       "      <td>80</td>\n",
       "      <td>73</td>\n",
       "      <td>8.00</td>\n",
       "      <td>192</td>\n",
       "      <td>Nintendo</td>\n",
       "      <td>E</td>\n",
       "    </tr>\n",
       "    <tr>\n",
       "      <th>4</th>\n",
       "      <td>Pokemon Red/Pokemon Blue</td>\n",
       "      <td>GB</td>\n",
       "      <td>1996</td>\n",
       "      <td>Role-Playing</td>\n",
       "      <td>Nintendo</td>\n",
       "      <td>11.27</td>\n",
       "      <td>8.89</td>\n",
       "      <td>10.22</td>\n",
       "      <td>1.00</td>\n",
       "      <td>31.37</td>\n",
       "      <td>81</td>\n",
       "      <td>65</td>\n",
       "      <td>8.08</td>\n",
       "      <td>465</td>\n",
       "      <td>Ubisoft</td>\n",
       "      <td>E</td>\n",
       "    </tr>\n",
       "  </tbody>\n",
       "</table>\n",
       "</div>"
      ],
      "text/plain": [
       "                       Name Platform  Year_of_Release         Genre Publisher  \\\n",
       "0                Wii Sports      Wii             2006        Sports  Nintendo   \n",
       "1         Super Mario Bros.      NES             1985      Platform  Nintendo   \n",
       "2            Mario Kart Wii      Wii             2008        Racing  Nintendo   \n",
       "3         Wii Sports Resort      Wii             2009        Sports  Nintendo   \n",
       "4  Pokemon Red/Pokemon Blue       GB             1996  Role-Playing  Nintendo   \n",
       "\n",
       "   NA_Sales  EU_Sales  JP_Sales  Other_Sales  Global_Sales  Critic_Score  \\\n",
       "0     41.36     28.96      3.77         8.45         82.53            76   \n",
       "1     29.08      3.58      6.81         0.77         40.24            79   \n",
       "2     15.68     12.76      3.79         3.29         35.52            82   \n",
       "3     15.61     10.93      3.28         2.95         32.77            80   \n",
       "4     11.27      8.89     10.22         1.00         31.37            81   \n",
       "\n",
       "   Critic_Count  User_Score  User_Count Developer Rating  \n",
       "0            51        8.00         322  Nintendo      E  \n",
       "1            66        7.96         411   Ubisoft      E  \n",
       "2            73        8.30         709  Nintendo      E  \n",
       "3            73        8.00         192  Nintendo      E  \n",
       "4            65        8.08         465   Ubisoft      E  "
      ]
     },
     "execution_count": 18,
     "metadata": {},
     "output_type": "execute_result"
    }
   ],
   "source": [
    "# Identify numerical columns\n",
    "numeric_columns = df_sales.select_dtypes(include=['float64']).columns\n",
    "\n",
    "# Columns to round up to integers\n",
    "columns_to_round_int = ['Year_of_Release', 'Critic_Score', 'Critic_Count',  'User_Count'] \n",
    "\n",
    "# Columns to round to floats with 2 decimal places (rest of the numerical columns)\n",
    "columns_to_round_float = [col for col in numeric_columns if col not in columns_to_round_int]\n",
    "\n",
    "# Round up specific numerical columns to integers\n",
    "df_sales[columns_to_round_int] = df_sales[columns_to_round_int].round(0).astype(int)\n",
    "\n",
    "\n",
    "# Display the DataFrame after rounding\n",
    "df_sales.head()\n"
   ]
  },
  {
   "cell_type": "code",
   "execution_count": 19,
   "id": "cad327aa",
   "metadata": {},
   "outputs": [
    {
     "name": "stdout",
     "output_type": "stream",
     "text": [
      "<class 'pandas.core.frame.DataFrame'>\n",
      "RangeIndex: 16719 entries, 0 to 16718\n",
      "Data columns (total 16 columns):\n",
      " #   Column           Non-Null Count  Dtype  \n",
      "---  ------           --------------  -----  \n",
      " 0   Name             16719 non-null  object \n",
      " 1   Platform         16719 non-null  object \n",
      " 2   Year_of_Release  16719 non-null  int32  \n",
      " 3   Genre            16719 non-null  object \n",
      " 4   Publisher        16719 non-null  object \n",
      " 5   NA_Sales         16719 non-null  float64\n",
      " 6   EU_Sales         16719 non-null  float64\n",
      " 7   JP_Sales         16719 non-null  float64\n",
      " 8   Other_Sales      16719 non-null  float64\n",
      " 9   Global_Sales     16719 non-null  float64\n",
      " 10  Critic_Score     16719 non-null  int32  \n",
      " 11  Critic_Count     16719 non-null  int32  \n",
      " 12  User_Score       16719 non-null  float64\n",
      " 13  User_Count       16719 non-null  int32  \n",
      " 14  Developer        16719 non-null  object \n",
      " 15  Rating           16719 non-null  object \n",
      "dtypes: float64(6), int32(4), object(6)\n",
      "memory usage: 1.8+ MB\n"
     ]
    }
   ],
   "source": [
    "# Checking the Data Types to see if they match the Data Dictionary\n",
    "\n",
    "df_sales.info()"
   ]
  },
  {
   "cell_type": "markdown",
   "id": "377a6793",
   "metadata": {},
   "source": [
    "## Data Visualization"
   ]
  },
  {
   "cell_type": "markdown",
   "id": "5573215e",
   "metadata": {},
   "source": [
    "### Question 1: What are the top 5 games by global sales?  "
   ]
  },
  {
   "cell_type": "code",
   "execution_count": 20,
   "id": "1c99db8b",
   "metadata": {},
   "outputs": [],
   "source": [
    "### Creating Dataframes to solve the calculation before Visualization \n",
    "# Calculating the top 5 games sold globally.\n",
    "top_5_games_sold = df_sales[['Name', 'Global_Sales']].nlargest(5, 'Global_Sales')"
   ]
  },
  {
   "cell_type": "code",
   "execution_count": 21,
   "id": "cd930025",
   "metadata": {},
   "outputs": [
    {
     "data": {
      "image/png": "[encoded data removed]",
      "text/plain": [
       "<Figure size 600x300 with 1 Axes>"
      ]
     },
     "metadata": {},
     "output_type": "display_data"
    }
   ],
   "source": [
    "plt.figure(figsize=(6, 3))\n",
    "sns.barplot(data= top_5_games_sold, x='Global_Sales', y='Name', palette='pastel')\n",
    "plt.title('Top 5 Games by Global Sales')\n",
    "plt.show()"
   ]
  },
  {
   "cell_type": "markdown",
   "id": "3ec7fbf5",
   "metadata": {},
   "source": [
    "### Question 2: Is there a correlation between the “na_sales” and “jp_sales” for the years 2010-2014?   "
   ]
  },
  {
   "cell_type": "code",
   "execution_count": 22,
   "id": "a168a9c7",
   "metadata": {},
   "outputs": [],
   "source": [
    "# Creating dataframe for the year between 2010 - 2014\n",
    "\n",
    "sales_2010_2014 = df_sales[(df_sales['Year_of_Release'] >= 2010) & (df_sales['Year_of_Release'] <= 2014)]"
   ]
  },
  {
   "cell_type": "code",
   "execution_count": 23,
   "id": "3c318c09",
   "metadata": {},
   "outputs": [
    {
     "data": {
      "image/png": "[encoded data removed]",
      "text/plain": [
       "<Figure size 700x500 with 1 Axes>"
      ]
     },
     "metadata": {},
     "output_type": "display_data"
    }
   ],
   "source": [
    "plt.figure(figsize=(7, 5))\n",
    "sns.scatterplot(data=sales_2010_2014, x='NA_Sales', y='JP_Sales',hue='Year_of_Release', palette='viridis', alpha=0.7);\n",
    "plt.legend(loc='upper right', bbox_to_anchor=(1.2,1));\n",
    "plt.xlabel('NA Sales')\n",
    "plt.ylabel('JP Sales')\n",
    "plt.title('Correlation between NA Sales and JP Sales (2010-2014)')\n",
    "plt.show();"
   ]
  },
  {
   "cell_type": "markdown",
   "id": "6e14c2ed",
   "metadata": {},
   "source": [
    "### Question 3: What is the distribution of the most popular 4 game genres?  "
   ]
  },
  {
   "cell_type": "code",
   "execution_count": 24,
   "id": "0b4dc45d",
   "metadata": {},
   "outputs": [],
   "source": [
    "# Creating DataFrame for the top 4 genres\n",
    "\n",
    "top_4_genres = df_sales['Genre'].value_counts().nlargest(4)"
   ]
  },
  {
   "cell_type": "code",
   "execution_count": 26,
   "id": "dafbef09",
   "metadata": {},
   "outputs": [
    {
     "data": {
      "image/png": "[encoded data removed]",
      "text/plain": [
       "<Figure size 700x400 with 1 Axes>"
      ]
     },
     "metadata": {},
     "output_type": "display_data"
    }
   ],
   "source": [
    "plt.figure(figsize=(7, 4))\n",
    "sns.barplot(x=top_4_genres.index, y=top_4_genres.values, palette = 'Set2');\n",
    "plt.xlabel('Genre')\n",
    "plt.ylabel('Number of Games')\n",
    "plt.title('Distribution of Top 4 Game Genres')\n",
    "plt.show();"
   ]
  },
  {
   "cell_type": "markdown",
   "id": "270f487e",
   "metadata": {},
   "source": [
    "### Question 4: Do older games (2005 and earlier) have a higher MEAN “eu_sales” than newer games (after 2005)?  "
   ]
  },
  {
   "cell_type": "code",
   "execution_count": 31,
   "id": "e2e0ab0f",
   "metadata": {
    "scrolled": true
   },
   "outputs": [
    {
     "data": {
      "text/plain": [
       "<seaborn.axisgrid.FacetGrid at 0x21136ce8dd0>"
      ]
     },
     "execution_count": 31,
     "metadata": {},
     "output_type": "execute_result"
    },
    {
     "data": {
      "image/png": "[encoded data removed]",
      "text/plain": [
       "<Figure size 750x500 with 1 Axes>"
      ]
     },
     "metadata": {},
     "output_type": "display_data"
    }
   ],
   "source": [
    "from numpy import mean\n",
    "sns.catplot(data=df_sales, x='EU_Sales', y='Year_of_Release', color='blue', aspect=1.5,kind='bar', estimator=mean)"
   ]
  },
  {
   "cell_type": "code",
   "execution_count": null,
   "id": "d532a7e5",
   "metadata": {},
   "outputs": [],
   "source": []
  }
 ],
 "metadata": {
  "kernelspec": {
   "display_name": "Python 3 (ipykernel)",
   "language": "python",
   "name": "python3"
  },
  "language_info": {
   "codemirror_mode": {
    "name": "ipython",
    "version": 3
   },
   "file_extension": ".py",
   "mimetype": "text/x-python",
   "name": "python",
   "nbconvert_exporter": "python",
   "pygments_lexer": "ipython3",
   "version": "3.11.3"
  }
 },
 "nbformat": 4,
 "nbformat_minor": 5
}
